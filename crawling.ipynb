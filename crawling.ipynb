{
 "cells": [
  {
   "cell_type": "code",
   "execution_count": 190,
   "metadata": {},
   "outputs": [],
   "source": [
    "import pandas as pd\n",
    "import requests\n",
    "from bs4 import BeautifulSoup\n",
    "from tqdm import tqdm\n",
    "\n",
    "import time\n",
    "from selenium import webdriver\n",
    "from selenium.webdriver.chrome.service import Service\n",
    "from webdriver_manager.chrome import ChromeDriverManager\n",
    "from selenium.webdriver.common.by import By\n",
    "from selenium.webdriver.support.ui import WebDriverWait\n",
    "from selenium.webdriver.support import expected_conditions as EC\n",
    "from selenium.webdriver.common.keys import Keys"
   ]
  },
  {
   "cell_type": "code",
   "execution_count": null,
   "metadata": {},
   "outputs": [],
   "source": [
    "url = \"https://www.rallit.com/\"\n",
    "response = requests.get(url, headers={'User-Agent': 'Mozilla 5.0'})\n",
    "bs = BeautifulSoup(response.text, 'lxml')\n",
    "bs"
   ]
  },
  {
   "cell_type": "code",
   "execution_count": 194,
   "metadata": {},
   "outputs": [],
   "source": [
    "languages = bs.select('div.css-1ady226 a')\n",
    "urls = ''.join([url,languages[2].attrs.get('href').split('/')[1]])"
   ]
  },
  {
   "cell_type": "code",
   "execution_count": 239,
   "metadata": {},
   "outputs": [
    {
     "data": {
      "text/plain": [
       "'.css-5wonz9{display:-webkit-box;display:-webkit-flex;display:-ms-flexbox;display:flex;-webkit-box-pack:center;-ms-flex-pack:center;-webkit-justify-content:center;justify-content:center;-webkit-align-items:center;-webkit-box-align:center;-ms-flex-align:center;align-items:center;-webkit-flex-shrink:0;-ms-flex-negative:0;flex-shrink:0;width:20px;height:20px;margin-left:4px;}'"
      ]
     },
     "execution_count": 239,
     "metadata": {},
     "output_type": "execute_result"
    }
   ],
   "source": [
    "response = requests.get(urls, headers={'User-agent': 'Mozilla 5.0'})\n",
    "bs = BeautifulSoup(response.text, 'lxml')\n",
    "bs.select('ul')[0].select('li')[0].select('a')[0].select('style')[0].text"
   ]
  },
  {
   "cell_type": "code",
   "execution_count": 240,
   "metadata": {},
   "outputs": [],
   "source": [
    "driver = webdriver.Chrome(service=Service(ChromeDriverManager().install()))\n",
    "driver.get(urls)\n",
    "driver.find_element(By.XPATH, '/html/body/div[1]/main/section/div[4]/div/div[2]/section/ul/li[7]/a/article/div[1]/figure/picture/img').click()\n",
    "\n"
   ]
  },
  {
   "cell_type": "code",
   "execution_count": 241,
   "metadata": {},
   "outputs": [
    {
     "data": {
      "text/plain": [
       "['회사명비바리퍼블리카(토스)직책 • 부서사원\\t• UX / Interaction근무 기간 (근무 형태)2024.05. - 재직 중(8개월 | 정규직)담당 업무',\n",
       " '회사명마플코퍼레이션직책 • 부서사원\\t• R&D근무 기간 (근무 형태)2021.12. - 2023.12.(2년 1개월 | 정규직)담당 업무크리에이터를 위한 커스터마이즈 솔루션을 제공하는 마플코퍼레이션에서 노코드 NFT 프로젝트 발행 툴인 OMNUUM, 크리에이터 이코노미를 위한 커뮤니티 툴 CIETY를 개발했습니다.두 서비스 모두 시작 단계에서 합류해 기획/디자인 레벨까지 참여하여 유저에게 더 나은 가치를 전달하는 데 폭넓게 기여하였습니다.개발 아티클 공유 문화 조성, 코드 리뷰 의무화, 배포 알림 등의 슬랙 봇 제작, 팀 온보딩 가이드 문서화 등의 활동으로 동료와 함께 성장하는 환경, 병목 없는 협업 환경을 만들기 위해 노력하였습니다.',\n",
       " '프로젝트명CIETY소속/기관명마플코퍼레이션프로젝트 기간2022.03. - 2023.11.(1년 9개월)프로젝트 설명Description\\n블록체인 자산 보유 여부 체크, 라이브 스트리밍, DM 등의 기능을 제공하는 크리에이터 팬 커뮤니티 툴 (Website)\\nExperience\\n\\nPC, 모바일 웹뷰 플랫폼에서 사용 가능한 DM, 검색, 유저 온보딩, 어드민 세팅, 라이브 스트리밍 등의 전반적인 커뮤니티 기능 개발\\n다중 웹뷰 간 데이터 공유 로직 개선 작업으로 개발 프로세스 단순화에 기여\\n의존성 캐싱을 통해 CI 시간 70% 단축\\n대규모 공용 모듈 리팩토링으로 기술 부채 해소\\n\\nTech Stack\\nWeb: React TypeScript Redux Tailwind CSS StorybookApp: React Native TypeScript Recoil Styled Component',\n",
       " '프로젝트명OMNUUM소속/기관명마플코퍼레이션(수습 기간)프로젝트 기간2021.10. - 2022.03.(6개월)프로젝트 설명Description\\nNFT 프로젝트 발행 및 구매 웹사이트 빌딩 등의 기능을 제공하는 NFT 종합 솔루션 툴 (Website)\\nExperience\\n\\nCanvas API 기반의 대용량 랜덤 이미지 생성 및 블록체인 업로드기능 개발\\nHexagonal Architecture 기반 리팩토링\\n백오피스 이메일 UI 제너레이터 개발\\n\\nTech Stack\\nReact Remix TypeScript RxJS Tailwind CSS',\n",
       " '프로젝트명Zero.log소속/기관명개인프로젝트 기간2021.05. - 진행 중(3년 8개월)프로젝트 설명Description\\n기술 학습 및 아카이빙 용도의 개인 블로그 (GitHub, Website)\\nExperience\\n\\n기술 스택 변경 및 도메인 이전 작업(Jekyll -> Gatsby -> Next.js)\\nThree.js 기반의 3D 인터렉티브 키 비주얼 제작\\n\\nTech Stack\\nReact Next.js TypeScript Three.js Tailwind CSS',\n",
       " '활동명글또 9기소속/기관활동 연도2023활동 상세 설명글 쓰는 개발자들의 커뮤니티 글또에 참여하여 2주 1회 글을 작성하고 있습니다.\\n\\n이력서 스터디 이력또 운영 (인원 21명)\\n백엔드/인프라, 프론트엔드 반상회 운영진\\n인터렉티브 웹 스터디 참여\\nJavaScript 디자인 패턴 스터디 참여\\n',\n",
       " '활동명mdn 번역 기여소속/기관활동 연도2023활동 상세 설명mdn BroadcastChannel API 섹션을 전체 번역하였습니다. (PR List, 블로그 글)']"
      ]
     },
     "execution_count": 241,
     "metadata": {},
     "output_type": "execute_result"
    }
   ],
   "source": [
    "bs = BeautifulSoup(driver.page_source, 'lxml')\n",
    "job = bs.select('div.css-lbs2xx')[0].select('dd')[0].text\n",
    "name = bs.select('div.css-mkhpdj')[0].select('dd')[0].text\n",
    "introduction = bs.select('div.css-14t12eg')[0].select('dd')[0].text\n",
    "introduction = introduction.replace('\\n', ' ')\n",
    "# introduction\n",
    "stacks = bs.select('dd.css-rr6z0l')\n",
    "stack = [stack.text for stack in stacks]\n",
    "# print(bs.select('div.css-2z4smx dl dt'))\n",
    "# print(bs.select('div.css-2z4smx dl dd'))\n",
    "[text.text for text in bs.select('div.css-2z4smx dl')]\n",
    "\n",
    "\n"
   ]
  },
  {
   "cell_type": "code",
   "execution_count": 242,
   "metadata": {},
   "outputs": [],
   "source": [
    "a = len(bs.select('div.css-1go5g56'))"
   ]
  },
  {
   "cell_type": "code",
   "execution_count": 243,
   "metadata": {},
   "outputs": [],
   "source": [
    "bs.select('div.css-1go5g56 dt')\n",
    "company = []\n",
    "for i in range(a):\n",
    "    if bs.select('div.css-1go5g56 dt')[i].text == '회사명':\n",
    "        company.append(bs.select('div.css-1go5g56 dd')[i].text)"
   ]
  },
  {
   "cell_type": "code",
   "execution_count": 236,
   "metadata": {},
   "outputs": [],
   "source": [
    "driver.find_element(By.XPATH, '/html/body/div[1]/main/section/div[4]/div/div[2]/section/ul/li[4]/a/article/div[1]/figure/picture/img').click()\n"
   ]
  },
  {
   "cell_type": "code",
   "execution_count": 238,
   "metadata": {},
   "outputs": [
    {
     "name": "stderr",
     "output_type": "stream",
     "text": [
      "C:\\Users\\USER\\AppData\\Local\\Temp\\ipykernel_5736\\2702045688.py:1: MarkupResemblesLocatorWarning: The input looks more like a URL than markup. You may want to use an HTTP client like requests to get the document behind the URL, and feed that document to Beautiful Soup.\n",
      "  bs = BeautifulSoup('https://www.rallit.com/hub/resumes/46957/%EB%B0%95%EB%93%A0%EC%86%94', 'lxml')\n"
     ]
    },
    {
     "data": {
      "text/plain": [
       "[]"
      ]
     },
     "execution_count": 238,
     "metadata": {},
     "output_type": "execute_result"
    }
   ],
   "source": [
    "bs = BeautifulSoup('https://www.rallit.com/hub/resumes/46957/%EB%B0%95%EB%93%A0%EC%86%94', 'lxml')\n",
    "\n",
    "bs.select('div.css-1o5d4u2')\n"
   ]
  },
  {
   "cell_type": "code",
   "execution_count": 254,
   "metadata": {},
   "outputs": [],
   "source": [
    "\n",
    "position = []\n",
    "b = len(bs.select('div.css-1tygxe4'))\n",
    "for i in range(b):\n",
    "    if bs.select('div.css-1tygxe4 dt')[i].text == '직책 • 부서':\n",
    "        position.append(bs.select('div.css-1tygxe4 dd')[i].text)\n",
    "\n",
    "\n"
   ]
  },
  {
   "cell_type": "code",
   "execution_count": 260,
   "metadata": {},
   "outputs": [
    {
     "name": "stdout",
     "output_type": "stream",
     "text": [
      "a\n",
      "a\n"
     ]
    },
    {
     "data": {
      "text/plain": [
       "[<div class=\"css-1i8e5d2\"><dt class=\"css-14ly3ew\">근무 기간 (근무 형태)</dt><dd class=\"css-1p42vje\">2024.05. - <span class=\"css-12bmvr5\">재직 중</span></dd><dd class=\"css-1p42vje\">(8개월 | 정규직)</dd></div>,\n",
       " <div class=\"css-1i8e5d2\"><dt class=\"css-14ly3ew\">근무 기간 (근무 형태)</dt><dd class=\"css-1p42vje\">2021.12. - 2023.12.</dd><dd class=\"css-1p42vje\">(2년 1개월 | 정규직)</dd></div>,\n",
       " <div class=\"css-1i8e5d2\"><dt class=\"css-14ly3ew\">프로젝트 기간</dt><dd class=\"css-1p42vje\">2022.03. - 2023.11.</dd><dd class=\"css-1p42vje\">(1년 9개월)</dd></div>,\n",
       " <div class=\"css-1i8e5d2\"><dt class=\"css-14ly3ew\">프로젝트 기간</dt><dd class=\"css-1p42vje\">2021.10. - 2022.03.</dd><dd class=\"css-1p42vje\">(6개월)</dd></div>,\n",
       " <div class=\"css-1i8e5d2\"><dt class=\"css-14ly3ew\">프로젝트 기간</dt><dd class=\"css-1p42vje\">2021.05. - <span class=\"css-12bmvr5\">진행 중</span></dd><dd class=\"css-1p42vje\">(3년 8개월)</dd></div>,\n",
       " <div class=\"css-1i8e5d2\"><dt class=\"css-14ly3ew\">활동 연도</dt><dd class=\"css-1p42vje\">2023</dd></div>,\n",
       " <div class=\"css-1i8e5d2\"><dt class=\"css-14ly3ew\">활동 연도</dt><dd class=\"css-1p42vje\">2023</dd></div>]"
      ]
     },
     "execution_count": 260,
     "metadata": {},
     "output_type": "execute_result"
    }
   ],
   "source": [
    "c = len(bs.select('div.css-1i8e5d2'))\n",
    "for i in range(c):\n",
    "    if bs.select('div.css-1i8e5d2 dt')[i].text == '근무 기간 (근무 형태)':\n",
    "        print('a')\n",
    "\n",
    "bs.select('div.css-1i8e5d2')"
   ]
  },
  {
   "cell_type": "code",
   "execution_count": 253,
   "metadata": {},
   "outputs": [
    {
     "name": "stdout",
     "output_type": "stream",
     "text": [
      "직업: 프론트엔드 개발자\n",
      "이름: 이예서\n",
      "소개: 타인에게 망설임 없이 추천할 수 있는, 일상 속에 자연스럽게 스며드는 제품을 개발하는 것을 목표로 하고 있습니다. 좋은 제품을 만들기 위해 유저의 상황에 몰입하여 최선의 방향을 고민하고, 적극적으로 커뮤니케이션합니다. 유연하게 변화에 적응하며, 새로운 도전을 즐깁니다.\n",
      "기술: ['React', 'TypeScript', 'Redux', 'tailwind-css', 'RxJS', 'Gatsby', 'Next.js']\n",
      "회사명: ['비바리퍼블리카(토스)', '마플코퍼레이션']\n",
      "직책 • 부서 ['사원\\t• UX / Interaction', '사원\\t• R&D']\n"
     ]
    }
   ],
   "source": [
    "print('직업:', job)\n",
    "print('이름:', name)\n",
    "print('소개:', introduction)\n",
    "print('기술:', stack)\n",
    "print('회사명:', company)\n",
    "print('직책 • 부서', position)\n"
   ]
  },
  {
   "cell_type": "code",
   "execution_count": null,
   "metadata": {},
   "outputs": [],
   "source": [
    "[text.text for text in bs.select('article.css-498im8')]"
   ]
  }
 ],
 "metadata": {
  "kernelspec": {
   "display_name": "deep_learning",
   "language": "python",
   "name": "python3"
  },
  "language_info": {
   "codemirror_mode": {
    "name": "ipython",
    "version": 3
   },
   "file_extension": ".py",
   "mimetype": "text/x-python",
   "name": "python",
   "nbconvert_exporter": "python",
   "pygments_lexer": "ipython3",
   "version": "3.10.14"
  }
 },
 "nbformat": 4,
 "nbformat_minor": 2
}
